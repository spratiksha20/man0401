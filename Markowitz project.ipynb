{
 "cells": [
  {
   "cell_type": "code",
   "execution_count": 1,
   "metadata": {},
   "outputs": [],
   "source": [
    "import pandas as pd\n",
    "import numpy as np\n",
    "import datetime as dt\n",
    "from statistics import stdev"
   ]
  },
  {
   "cell_type": "code",
   "execution_count": 2,
   "metadata": {},
   "outputs": [],
   "source": [
    "import pandas_datareader.data as pdr"
   ]
  },
  {
   "cell_type": "code",
   "execution_count": 3,
   "metadata": {},
   "outputs": [],
   "source": [
    "df=pd.read_csv('nifty50.csv')"
   ]
  },
  {
   "cell_type": "code",
   "execution_count": 4,
   "metadata": {},
   "outputs": [],
   "source": [
    "def CAGR(df,name):\n",
    "    \n",
    "    #USING df[name] and iloc function, identify the initial price of stock \n",
    "    start_value = df[name].iloc[0]\n",
    "    \n",
    "    #Like we did for Start Value, USING df[name] and iloc function, identify the final price of stock \n",
    "    end_value = df[name].iloc[-1]\n",
    "    \n",
    "    #Specify the Number of years we are taking into account \n",
    "    n = 5\n",
    "    \n",
    "    #WRITE THE CAGR FUNCTION USING START VALUE, END VALUE AND NUMBER OF PERIODS\n",
    "    cagr = (end_value/start_value)**(1/n) -1 \n",
    "    \n",
    "    return cagr"
   ]
  },
  {
   "cell_type": "code",
   "execution_count": 5,
   "metadata": {},
   "outputs": [],
   "source": [
    "def volatility(df,name):\n",
    "    df[name] = df[name].pct_change()\n",
    "    vol = df[name].std(ddof=0) * np.sqrt(252)\n",
    "    return vol"
   ]
  },
  {
   "cell_type": "code",
   "execution_count": 6,
   "metadata": {},
   "outputs": [],
   "source": [
    "def sharpe(x,y,rf):\n",
    "    \n",
    "    #Write down the Sharpe Ratio formula using CAGR, Volatility and Risk-Free rate\n",
    "    sr = (x - rf)/y\n",
    "    \n",
    "    return sr"
   ]
  },
  {
   "cell_type": "code",
   "execution_count": 7,
   "metadata": {},
   "outputs": [
    {
     "data": {
      "text/plain": [
       "['Date',\n",
       " 'ADANIPORTS.NS',\n",
       " 'TECHM.NS',\n",
       " 'BRITANNIA.NS',\n",
       " 'TCS.NS',\n",
       " 'SUNPHARMA.NS',\n",
       " 'INFY.NS',\n",
       " 'HINDALCO.NS',\n",
       " 'DRREDDY.NS',\n",
       " 'HCLTECH.NS',\n",
       " 'HINDUNILVR.NS',\n",
       " 'TATASTEEL.NS',\n",
       " 'NTPC.NS',\n",
       " 'CIPLA.NS',\n",
       " 'ITC.NS',\n",
       " 'BPCL.NS',\n",
       " 'WIPRO.NS',\n",
       " 'JSWSTEEL.NS',\n",
       " 'GAIL.NS',\n",
       " 'DIVISLAB.NS',\n",
       " 'ULTRACEMCO.NS',\n",
       " 'NESTLEIND.NS',\n",
       " 'ASIANPAINT.NS',\n",
       " 'EICHERMOT.NS',\n",
       " 'IOC.NS',\n",
       " 'GRASIM.NS',\n",
       " 'BAJAJ-AUTO.NS',\n",
       " 'HDFC.NS',\n",
       " 'M&M.NS',\n",
       " 'UPL.NS',\n",
       " 'SHREECEM.NS',\n",
       " 'MARUTI.NS',\n",
       " 'TITAN.NS',\n",
       " 'BAJAJFINSV.NS',\n",
       " 'KOTAKBANK.NS',\n",
       " 'COALINDIA.NS',\n",
       " 'BHARTIARTL.NS',\n",
       " 'HEROMOTOCO.NS',\n",
       " 'LT.NS',\n",
       " 'ONGC.NS',\n",
       " 'SBIN.NS',\n",
       " 'RELIANCE.NS',\n",
       " 'BAJFINANCE.NS',\n",
       " 'AXISBANK.NS',\n",
       " 'HDFCBANK.NS',\n",
       " 'TATAMOTORS.NS',\n",
       " 'ICICIBANK.NS',\n",
       " 'POWERGRID.NS',\n",
       " 'INDUSINDBK.NS']"
      ]
     },
     "execution_count": 7,
     "metadata": {},
     "output_type": "execute_result"
    }
   ],
   "source": [
    "name=list(df)\n",
    "name"
   ]
  },
  {
   "cell_type": "code",
   "execution_count": 8,
   "metadata": {},
   "outputs": [
    {
     "ename": "TypeError",
     "evalue": "unsupported operand type(s) for /: 'str' and 'str'",
     "output_type": "error",
     "traceback": [
      "\u001b[1;31m---------------------------------------------------------------------------\u001b[0m",
      "\u001b[1;31mTypeError\u001b[0m                                 Traceback (most recent call last)",
      "\u001b[1;32m<ipython-input-8-6f561d51e65a>\u001b[0m in \u001b[0;36m<module>\u001b[1;34m\u001b[0m\n\u001b[0;32m      4\u001b[0m \u001b[0mrf\u001b[0m \u001b[1;33m=\u001b[0m \u001b[1;36m0.06\u001b[0m\u001b[1;33m\u001b[0m\u001b[1;33m\u001b[0m\u001b[0m\n\u001b[0;32m      5\u001b[0m \u001b[1;32mfor\u001b[0m \u001b[0mi\u001b[0m \u001b[1;32min\u001b[0m \u001b[0mrange\u001b[0m\u001b[1;33m(\u001b[0m\u001b[0mlen\u001b[0m\u001b[1;33m(\u001b[0m\u001b[0mname\u001b[0m\u001b[1;33m)\u001b[0m\u001b[1;33m)\u001b[0m\u001b[1;33m:\u001b[0m\u001b[1;33m\u001b[0m\u001b[1;33m\u001b[0m\u001b[0m\n\u001b[1;32m----> 6\u001b[1;33m     \u001b[0mx\u001b[0m \u001b[1;33m=\u001b[0m \u001b[0mCAGR\u001b[0m\u001b[1;33m(\u001b[0m\u001b[0mdf\u001b[0m\u001b[1;33m,\u001b[0m \u001b[0mname\u001b[0m\u001b[1;33m[\u001b[0m\u001b[0mi\u001b[0m\u001b[1;33m]\u001b[0m\u001b[1;33m)\u001b[0m\u001b[1;33m\u001b[0m\u001b[1;33m\u001b[0m\u001b[0m\n\u001b[0m\u001b[0;32m      7\u001b[0m     \u001b[0my\u001b[0m \u001b[1;33m=\u001b[0m \u001b[0mvolatility\u001b[0m\u001b[1;33m(\u001b[0m\u001b[0mdf\u001b[0m\u001b[1;33m,\u001b[0m \u001b[0mname\u001b[0m\u001b[1;33m[\u001b[0m\u001b[0mi\u001b[0m\u001b[1;33m]\u001b[0m\u001b[1;33m)\u001b[0m\u001b[1;33m\u001b[0m\u001b[1;33m\u001b[0m\u001b[0m\n\u001b[0;32m      8\u001b[0m     \u001b[0mz\u001b[0m \u001b[1;33m=\u001b[0m \u001b[0msharpe\u001b[0m\u001b[1;33m(\u001b[0m\u001b[0mx\u001b[0m\u001b[1;33m,\u001b[0m\u001b[0my\u001b[0m\u001b[1;33m,\u001b[0m\u001b[0mrf\u001b[0m\u001b[1;33m)\u001b[0m\u001b[1;33m\u001b[0m\u001b[1;33m\u001b[0m\u001b[0m\n",
      "\u001b[1;32m<ipython-input-4-abfc49d8eb46>\u001b[0m in \u001b[0;36mCAGR\u001b[1;34m(df, name)\u001b[0m\n\u001b[0;32m     11\u001b[0m \u001b[1;33m\u001b[0m\u001b[0m\n\u001b[0;32m     12\u001b[0m     \u001b[1;31m#WRITE THE CAGR FUNCTION USING START VALUE, END VALUE AND NUMBER OF PERIODS\u001b[0m\u001b[1;33m\u001b[0m\u001b[1;33m\u001b[0m\u001b[1;33m\u001b[0m\u001b[0m\n\u001b[1;32m---> 13\u001b[1;33m     \u001b[0mcagr\u001b[0m \u001b[1;33m=\u001b[0m \u001b[1;33m(\u001b[0m\u001b[0mend_value\u001b[0m\u001b[1;33m/\u001b[0m\u001b[0mstart_value\u001b[0m\u001b[1;33m)\u001b[0m\u001b[1;33m**\u001b[0m\u001b[1;33m(\u001b[0m\u001b[1;36m1\u001b[0m\u001b[1;33m/\u001b[0m\u001b[0mn\u001b[0m\u001b[1;33m)\u001b[0m \u001b[1;33m-\u001b[0m\u001b[1;36m1\u001b[0m\u001b[1;33m\u001b[0m\u001b[1;33m\u001b[0m\u001b[0m\n\u001b[0m\u001b[0;32m     14\u001b[0m \u001b[1;33m\u001b[0m\u001b[0m\n\u001b[0;32m     15\u001b[0m     \u001b[1;32mreturn\u001b[0m \u001b[0mcagr\u001b[0m\u001b[1;33m\u001b[0m\u001b[1;33m\u001b[0m\u001b[0m\n",
      "\u001b[1;31mTypeError\u001b[0m: unsupported operand type(s) for /: 'str' and 'str'"
     ]
    }
   ],
   "source": [
    "cagr = []\n",
    "vol = []\n",
    "sr = []\n",
    "rf = 0.06\n",
    "for i in range(len(name)):\n",
    "    x = CAGR(df, name[i])\n",
    "    y = volatility(df, name[i])\n",
    "    z = sharpe(x,y,rf)\n",
    "    cagr.append(x)\n",
    "    vol.append(y)\n",
    "    sr.append(z)\n",
    "\n",
    "#PRINT CAGR, VOL, SR LIST\n",
    "print(sr)"
   ]
  },
  {
   "cell_type": "code",
   "execution_count": null,
   "metadata": {},
   "outputs": [],
   "source": []
  },
  {
   "cell_type": "code",
   "execution_count": null,
   "metadata": {},
   "outputs": [],
   "source": []
  },
  {
   "cell_type": "code",
   "execution_count": null,
   "metadata": {},
   "outputs": [],
   "source": []
  },
  {
   "cell_type": "code",
   "execution_count": null,
   "metadata": {},
   "outputs": [],
   "source": []
  },
  {
   "cell_type": "code",
   "execution_count": null,
   "metadata": {},
   "outputs": [],
   "source": [
    "fd=dt.datetime(2021,6,30)\n",
    "ind=dt.datetime(2021,1,1)\n"
   ]
  },
  {
   "cell_type": "code",
   "execution_count": null,
   "metadata": {},
   "outputs": [],
   "source": [
    "newdf = pd.DataFrame()\n",
    "\n",
    "for i in range(len(newlist)):\n",
    "    try:\n",
    "        o = pdr.get_data_yahoo(newlist[i],ini,fin)\n",
    "        newdf[str(newlist[i])] = o[\"Close\"]\n",
    "    except:\n",
    "        print('error')\n",
    "        print(i)\n",
    "\n",
    "o = pdr.get_data_yahoo('^NSEI',ind,fd)\n",
    "newdf['Nifty50'] = o[\"Close\"]"
   ]
  },
  {
   "cell_type": "code",
   "execution_count": null,
   "metadata": {},
   "outputs": [],
   "source": []
  }
 ],
 "metadata": {
  "kernelspec": {
   "display_name": "Python 3",
   "language": "python",
   "name": "python3"
  },
  "language_info": {
   "codemirror_mode": {
    "name": "ipython",
    "version": 3
   },
   "file_extension": ".py",
   "mimetype": "text/x-python",
   "name": "python",
   "nbconvert_exporter": "python",
   "pygments_lexer": "ipython3",
   "version": "3.8.5"
  }
 },
 "nbformat": 4,
 "nbformat_minor": 4
}
